{
 "cells": [
  {
   "cell_type": "code",
   "execution_count": 21,
   "id": "024a9cab",
   "metadata": {},
   "outputs": [],
   "source": [
    "# Import reusable path setup\n",
    "from setup_paths import setup_project_paths\n",
    "\n",
    "# Get project paths\n",
    "paths = setup_project_paths()\n",
    "\n",
    "RAW_DIR = paths[\"RAW_DIR\"]\n",
    "PROCESSED_DIR = paths[\"PROCESSED_DIR\"]"
   ]
  },
  {
   "cell_type": "code",
   "execution_count": 14,
   "id": "b922ab83",
   "metadata": {},
   "outputs": [],
   "source": [
    "import os\n",
    "import pandas as pd\n",
    "from googleapiclient.discovery import build\n",
    "from dotenv import load_dotenv"
   ]
  },
  {
   "cell_type": "code",
   "execution_count": 15,
   "id": "c2f3f0fa",
   "metadata": {},
   "outputs": [],
   "source": [
    "# Load API key from .env\n",
    "load_dotenv()\n",
    "YOUTUBE_API_KEY = os.getenv(\"YOUTUBE_API_KEY\")\n"
   ]
  },
  {
   "cell_type": "code",
   "execution_count": 16,
   "id": "bf271f93",
   "metadata": {},
   "outputs": [],
   "source": [
    "# Ensure data folders exist\n",
    "os.makedirs('data/raw', exist_ok=True)\n",
    "os.makedirs('data/processed', exist_ok=True)"
   ]
  },
  {
   "cell_type": "code",
   "execution_count": 17,
   "id": "ba8107fe",
   "metadata": {},
   "outputs": [],
   "source": [
    "# Initialize YouTube API\n",
    "youtube = build('youtube', 'v3', developerKey=YOUTUBE_API_KEY)"
   ]
  },
  {
   "cell_type": "code",
   "execution_count": 18,
   "id": "22f8b7c0",
   "metadata": {},
   "outputs": [],
   "source": [
    "# Function to fetch trending videos\n",
    "def fetch_trending_videos(region='US', max_results=50):\n",
    "    request = youtube.videos().list(\n",
    "        part='snippet,statistics',\n",
    "        chart='mostPopular',\n",
    "        regionCode=region,\n",
    "        maxResults=max_results\n",
    "    )\n",
    "    response = request.execute()\n",
    "    videos = []\n",
    "    for item in response['items']:\n",
    "        videos.append({\n",
    "            'video_id': item['id'],\n",
    "            'title': item['snippet']['title'],\n",
    "            'channel': item['snippet']['channelTitle'],\n",
    "            'views': int(item['statistics'].get('viewCount', 0)),\n",
    "            'likes': int(item['statistics'].get('likeCount', 0)),\n",
    "            'comments': int(item['statistics'].get('commentCount', 0)),\n",
    "            'published_date': item['snippet']['publishedAt'],\n",
    "            'category_id': item['snippet'].get('categoryId', None)\n",
    "        })\n",
    "    df = pd.DataFrame(videos)\n",
    "    df.to_csv('data/raw/trending_videos.csv', index=False)\n",
    "    return df\n"
   ]
  },
  {
   "cell_type": "code",
   "execution_count": 19,
   "id": "3862453d",
   "metadata": {},
   "outputs": [
    {
     "name": "stdout",
     "output_type": "stream",
     "text": [
      "data/raw/trending_videos.csv already exists. Loading existing file...\n"
     ]
    },
    {
     "data": {
      "text/html": [
       "<div>\n",
       "<style scoped>\n",
       "    .dataframe tbody tr th:only-of-type {\n",
       "        vertical-align: middle;\n",
       "    }\n",
       "\n",
       "    .dataframe tbody tr th {\n",
       "        vertical-align: top;\n",
       "    }\n",
       "\n",
       "    .dataframe thead th {\n",
       "        text-align: right;\n",
       "    }\n",
       "</style>\n",
       "<table border=\"1\" class=\"dataframe\">\n",
       "  <thead>\n",
       "    <tr style=\"text-align: right;\">\n",
       "      <th></th>\n",
       "      <th>video_id</th>\n",
       "      <th>title</th>\n",
       "      <th>channel</th>\n",
       "      <th>views</th>\n",
       "      <th>likes</th>\n",
       "      <th>comments</th>\n",
       "      <th>published_date</th>\n",
       "      <th>category_id</th>\n",
       "    </tr>\n",
       "  </thead>\n",
       "  <tbody>\n",
       "    <tr>\n",
       "      <th>0</th>\n",
       "      <td>3cT5ML2l7KQ</td>\n",
       "      <td>VonOff1700 - Seen First (Official Video)</td>\n",
       "      <td>VonOff1700</td>\n",
       "      <td>134175</td>\n",
       "      <td>10464</td>\n",
       "      <td>411</td>\n",
       "      <td>2025-10-21T19:00:02Z</td>\n",
       "      <td>10</td>\n",
       "    </tr>\n",
       "    <tr>\n",
       "      <th>1</th>\n",
       "      <td>i36Zw32GfRQ</td>\n",
       "      <td>Reminders of Him | Official Trailer</td>\n",
       "      <td>Universal Pictures</td>\n",
       "      <td>5230773</td>\n",
       "      <td>10188</td>\n",
       "      <td>483</td>\n",
       "      <td>2025-10-21T15:00:23Z</td>\n",
       "      <td>24</td>\n",
       "    </tr>\n",
       "    <tr>\n",
       "      <th>2</th>\n",
       "      <td>9_ofCQ0eOTc</td>\n",
       "      <td>Taco Tuesday Admin Abuse + New BRAINROTS!</td>\n",
       "      <td>CaylusBlox</td>\n",
       "      <td>2008316</td>\n",
       "      <td>32729</td>\n",
       "      <td>992</td>\n",
       "      <td>2025-10-21T23:07:13Z</td>\n",
       "      <td>20</td>\n",
       "    </tr>\n",
       "    <tr>\n",
       "      <th>3</th>\n",
       "      <td>pCv0oP9JLKw</td>\n",
       "      <td>Morgan Wallen - 20 Cigarettes (Official Music ...</td>\n",
       "      <td>MorganWallenVEVO</td>\n",
       "      <td>601989</td>\n",
       "      <td>22640</td>\n",
       "      <td>1864</td>\n",
       "      <td>2025-10-20T18:01:00Z</td>\n",
       "      <td>10</td>\n",
       "    </tr>\n",
       "    <tr>\n",
       "      <th>4</th>\n",
       "      <td>2DuX1l-clGY</td>\n",
       "      <td>Honest Trailers | The Thing</td>\n",
       "      <td>Screen Junkies</td>\n",
       "      <td>174906</td>\n",
       "      <td>12822</td>\n",
       "      <td>1075</td>\n",
       "      <td>2025-10-21T17:00:03Z</td>\n",
       "      <td>1</td>\n",
       "    </tr>\n",
       "  </tbody>\n",
       "</table>\n",
       "</div>"
      ],
      "text/plain": [
       "      video_id                                              title  \\\n",
       "0  3cT5ML2l7KQ           VonOff1700 - Seen First (Official Video)   \n",
       "1  i36Zw32GfRQ                Reminders of Him | Official Trailer   \n",
       "2  9_ofCQ0eOTc          Taco Tuesday Admin Abuse + New BRAINROTS!   \n",
       "3  pCv0oP9JLKw  Morgan Wallen - 20 Cigarettes (Official Music ...   \n",
       "4  2DuX1l-clGY                        Honest Trailers | The Thing   \n",
       "\n",
       "              channel    views  likes  comments        published_date  \\\n",
       "0          VonOff1700   134175  10464       411  2025-10-21T19:00:02Z   \n",
       "1  Universal Pictures  5230773  10188       483  2025-10-21T15:00:23Z   \n",
       "2          CaylusBlox  2008316  32729       992  2025-10-21T23:07:13Z   \n",
       "3    MorganWallenVEVO   601989  22640      1864  2025-10-20T18:01:00Z   \n",
       "4      Screen Junkies   174906  12822      1075  2025-10-21T17:00:03Z   \n",
       "\n",
       "   category_id  \n",
       "0           10  \n",
       "1           24  \n",
       "2           20  \n",
       "3           10  \n",
       "4            1  "
      ]
     },
     "execution_count": 19,
     "metadata": {},
     "output_type": "execute_result"
    }
   ],
   "source": [
    "# Check if CSV exists\n",
    "csv_path = 'data/raw/trending_videos.csv'\n",
    "if os.path.exists(csv_path):\n",
    "    print(f\"{csv_path} already exists. Loading existing file...\")\n",
    "    df_raw = pd.read_csv(csv_path)\n",
    "else:\n",
    "    print(\"CSV not found. Fetching data from YouTube API...\")\n",
    "    df_raw = fetch_trending_videos()\n",
    "\n",
    "df_raw.head()"
   ]
  }
 ],
 "metadata": {
  "kernelspec": {
   "display_name": "base",
   "language": "python",
   "name": "python3"
  },
  "language_info": {
   "codemirror_mode": {
    "name": "ipython",
    "version": 3
   },
   "file_extension": ".py",
   "mimetype": "text/x-python",
   "name": "python",
   "nbconvert_exporter": "python",
   "pygments_lexer": "ipython3",
   "version": "3.13.5"
  }
 },
 "nbformat": 4,
 "nbformat_minor": 5
}
