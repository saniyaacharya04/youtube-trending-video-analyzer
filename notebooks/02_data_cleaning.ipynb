{
 "cells": [
  {
   "cell_type": "code",
   "execution_count": 14,
   "id": "0a42c2b0",
   "metadata": {},
   "outputs": [],
   "source": [
    "# Import reusable path setup\n",
    "from setup_paths import setup_project_paths\n",
    "\n",
    "# Get project paths\n",
    "paths = setup_project_paths()\n",
    "\n",
    "RAW_DIR = paths[\"RAW_DIR\"]\n",
    "PROCESSED_DIR = paths[\"PROCESSED_DIR\"]"
   ]
  },
  {
   "cell_type": "code",
   "execution_count": 5,
   "id": "118916dd",
   "metadata": {},
   "outputs": [],
   "source": [
    "# 02_data_cleaning.ipynb\n",
    "import os\n",
    "import pandas as pd"
   ]
  },
  {
   "cell_type": "code",
   "execution_count": 6,
   "id": "6d027781",
   "metadata": {},
   "outputs": [],
   "source": [
    "# Ensure processed folder exists\n",
    "os.makedirs('data/processed', exist_ok=True)"
   ]
  },
  {
   "cell_type": "code",
   "execution_count": 8,
   "id": "c86ab141",
   "metadata": {},
   "outputs": [],
   "source": [
    "# Load raw data safely\n",
    "raw_csv_path = 'data/raw/trending_videos.csv'\n",
    "if not os.path.exists(raw_csv_path):\n",
    "    raise FileNotFoundError(f\"{raw_csv_path} not found. Please run 01_data_collection.ipynb first.\")\n",
    "\n",
    "df = pd.read_csv(raw_csv_path)"
   ]
  },
  {
   "cell_type": "code",
   "execution_count": 9,
   "id": "2e5064c6",
   "metadata": {},
   "outputs": [],
   "source": [
    "# Convert published_date to datetime\n",
    "df['published_date'] = pd.to_datetime(df['published_date'])"
   ]
  },
  {
   "cell_type": "code",
   "execution_count": 10,
   "id": "1389b32d",
   "metadata": {},
   "outputs": [],
   "source": [
    "# Fill missing values\n",
    "df['likes'] = df['likes'].fillna(0)\n",
    "df['comments'] = df['comments'].fillna(0)"
   ]
  },
  {
   "cell_type": "code",
   "execution_count": 11,
   "id": "9815e189",
   "metadata": {},
   "outputs": [],
   "source": [
    "# Feature engineering\n",
    "df['title_length'] = df['title'].apply(len)\n",
    "df['engagement_ratio'] = (df['likes'] + df['comments']) / df['views']"
   ]
  },
  {
   "cell_type": "code",
   "execution_count": 12,
   "id": "dd9e5c87",
   "metadata": {},
   "outputs": [
    {
     "name": "stdout",
     "output_type": "stream",
     "text": [
      "Cleaned data saved to data/processed/trending_videos_clean.csv\n"
     ]
    },
    {
     "data": {
      "text/html": [
       "<div>\n",
       "<style scoped>\n",
       "    .dataframe tbody tr th:only-of-type {\n",
       "        vertical-align: middle;\n",
       "    }\n",
       "\n",
       "    .dataframe tbody tr th {\n",
       "        vertical-align: top;\n",
       "    }\n",
       "\n",
       "    .dataframe thead th {\n",
       "        text-align: right;\n",
       "    }\n",
       "</style>\n",
       "<table border=\"1\" class=\"dataframe\">\n",
       "  <thead>\n",
       "    <tr style=\"text-align: right;\">\n",
       "      <th></th>\n",
       "      <th>video_id</th>\n",
       "      <th>title</th>\n",
       "      <th>channel</th>\n",
       "      <th>views</th>\n",
       "      <th>likes</th>\n",
       "      <th>comments</th>\n",
       "      <th>published_date</th>\n",
       "      <th>category_id</th>\n",
       "      <th>title_length</th>\n",
       "      <th>engagement_ratio</th>\n",
       "    </tr>\n",
       "  </thead>\n",
       "  <tbody>\n",
       "    <tr>\n",
       "      <th>0</th>\n",
       "      <td>3cT5ML2l7KQ</td>\n",
       "      <td>VonOff1700 - Seen First (Official Video)</td>\n",
       "      <td>VonOff1700</td>\n",
       "      <td>134175</td>\n",
       "      <td>10464</td>\n",
       "      <td>411</td>\n",
       "      <td>2025-10-21 19:00:02+00:00</td>\n",
       "      <td>10</td>\n",
       "      <td>40</td>\n",
       "      <td>0.081051</td>\n",
       "    </tr>\n",
       "    <tr>\n",
       "      <th>1</th>\n",
       "      <td>i36Zw32GfRQ</td>\n",
       "      <td>Reminders of Him | Official Trailer</td>\n",
       "      <td>Universal Pictures</td>\n",
       "      <td>5230773</td>\n",
       "      <td>10188</td>\n",
       "      <td>483</td>\n",
       "      <td>2025-10-21 15:00:23+00:00</td>\n",
       "      <td>24</td>\n",
       "      <td>35</td>\n",
       "      <td>0.002040</td>\n",
       "    </tr>\n",
       "    <tr>\n",
       "      <th>2</th>\n",
       "      <td>9_ofCQ0eOTc</td>\n",
       "      <td>Taco Tuesday Admin Abuse + New BRAINROTS!</td>\n",
       "      <td>CaylusBlox</td>\n",
       "      <td>2008316</td>\n",
       "      <td>32729</td>\n",
       "      <td>992</td>\n",
       "      <td>2025-10-21 23:07:13+00:00</td>\n",
       "      <td>20</td>\n",
       "      <td>41</td>\n",
       "      <td>0.016791</td>\n",
       "    </tr>\n",
       "    <tr>\n",
       "      <th>3</th>\n",
       "      <td>pCv0oP9JLKw</td>\n",
       "      <td>Morgan Wallen - 20 Cigarettes (Official Music ...</td>\n",
       "      <td>MorganWallenVEVO</td>\n",
       "      <td>601989</td>\n",
       "      <td>22640</td>\n",
       "      <td>1864</td>\n",
       "      <td>2025-10-20 18:01:00+00:00</td>\n",
       "      <td>10</td>\n",
       "      <td>52</td>\n",
       "      <td>0.040705</td>\n",
       "    </tr>\n",
       "    <tr>\n",
       "      <th>4</th>\n",
       "      <td>2DuX1l-clGY</td>\n",
       "      <td>Honest Trailers | The Thing</td>\n",
       "      <td>Screen Junkies</td>\n",
       "      <td>174906</td>\n",
       "      <td>12822</td>\n",
       "      <td>1075</td>\n",
       "      <td>2025-10-21 17:00:03+00:00</td>\n",
       "      <td>1</td>\n",
       "      <td>27</td>\n",
       "      <td>0.079454</td>\n",
       "    </tr>\n",
       "  </tbody>\n",
       "</table>\n",
       "</div>"
      ],
      "text/plain": [
       "      video_id                                              title  \\\n",
       "0  3cT5ML2l7KQ           VonOff1700 - Seen First (Official Video)   \n",
       "1  i36Zw32GfRQ                Reminders of Him | Official Trailer   \n",
       "2  9_ofCQ0eOTc          Taco Tuesday Admin Abuse + New BRAINROTS!   \n",
       "3  pCv0oP9JLKw  Morgan Wallen - 20 Cigarettes (Official Music ...   \n",
       "4  2DuX1l-clGY                        Honest Trailers | The Thing   \n",
       "\n",
       "              channel    views  likes  comments            published_date  \\\n",
       "0          VonOff1700   134175  10464       411 2025-10-21 19:00:02+00:00   \n",
       "1  Universal Pictures  5230773  10188       483 2025-10-21 15:00:23+00:00   \n",
       "2          CaylusBlox  2008316  32729       992 2025-10-21 23:07:13+00:00   \n",
       "3    MorganWallenVEVO   601989  22640      1864 2025-10-20 18:01:00+00:00   \n",
       "4      Screen Junkies   174906  12822      1075 2025-10-21 17:00:03+00:00   \n",
       "\n",
       "   category_id  title_length  engagement_ratio  \n",
       "0           10            40          0.081051  \n",
       "1           24            35          0.002040  \n",
       "2           20            41          0.016791  \n",
       "3           10            52          0.040705  \n",
       "4            1            27          0.079454  "
      ]
     },
     "execution_count": 12,
     "metadata": {},
     "output_type": "execute_result"
    }
   ],
   "source": [
    "# Save cleaned data\n",
    "processed_csv_path = 'data/processed/trending_videos_clean.csv'\n",
    "df.to_csv(processed_csv_path, index=False)\n",
    "print(f\"Cleaned data saved to {processed_csv_path}\")\n",
    "\n",
    "df.head()"
   ]
  }
 ],
 "metadata": {
  "kernelspec": {
   "display_name": "base",
   "language": "python",
   "name": "python3"
  },
  "language_info": {
   "codemirror_mode": {
    "name": "ipython",
    "version": 3
   },
   "file_extension": ".py",
   "mimetype": "text/x-python",
   "name": "python",
   "nbconvert_exporter": "python",
   "pygments_lexer": "ipython3",
   "version": "3.13.5"
  }
 },
 "nbformat": 4,
 "nbformat_minor": 5
}
