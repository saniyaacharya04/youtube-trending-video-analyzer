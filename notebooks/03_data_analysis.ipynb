{
 "cells": [
  {
   "cell_type": "code",
   "execution_count": 10,
   "id": "acb94ece",
   "metadata": {},
   "outputs": [],
   "source": [
    "# Import reusable path setup\n",
    "from setup_paths import setup_project_paths\n",
    "\n",
    "# Get project paths\n",
    "paths = setup_project_paths()\n",
    "\n",
    "RAW_DIR = paths[\"RAW_DIR\"]\n",
    "PROCESSED_DIR = paths[\"PROCESSED_DIR\"]"
   ]
  },
  {
   "cell_type": "code",
   "execution_count": 2,
   "id": "68d270b9",
   "metadata": {},
   "outputs": [],
   "source": [
    "# 03_data_analysis.ipynb\n",
    "import os\n",
    "import pandas as pd\n"
   ]
  },
  {
   "cell_type": "code",
   "execution_count": 3,
   "id": "13f78d61",
   "metadata": {},
   "outputs": [],
   "source": [
    "# Load cleaned data safely\n",
    "clean_csv_path = 'data/processed/trending_videos_clean.csv'\n",
    "if not os.path.exists(clean_csv_path):\n",
    "    raise FileNotFoundError(f\"{clean_csv_path} not found. Please run 02_data_cleaning.ipynb first.\")\n",
    "\n",
    "df = pd.read_csv(clean_csv_path)"
   ]
  },
  {
   "cell_type": "code",
   "execution_count": 4,
   "id": "05bf010c",
   "metadata": {},
   "outputs": [
    {
     "name": "stdout",
     "output_type": "stream",
     "text": [
      "Summary Statistics:\n",
      "              views         likes      comments  category_id  title_length  \\\n",
      "count  5.000000e+01      50.00000     50.000000    50.000000     50.000000   \n",
      "mean   6.726700e+05   28570.92000   1737.540000    16.040000     42.280000   \n",
      "std    1.072167e+06   52379.81878   2708.224972     6.809237     15.502521   \n",
      "min    1.603800e+04     541.00000      3.000000     1.000000     15.000000   \n",
      "25%    1.545320e+05    4791.50000    356.000000    10.000000     32.000000   \n",
      "50%    2.839725e+05   11416.50000    861.000000    20.000000     40.000000   \n",
      "75%    6.040080e+05   25365.25000   2345.500000    20.000000     50.750000   \n",
      "max    5.230773e+06  318573.00000  16980.000000    24.000000     89.000000   \n",
      "\n",
      "       engagement_ratio  \n",
      "count         50.000000  \n",
      "mean           0.058766  \n",
      "std            0.049100  \n",
      "min            0.002040  \n",
      "25%            0.018538  \n",
      "50%            0.042257  \n",
      "75%            0.083288  \n",
      "max            0.238994  \n"
     ]
    }
   ],
   "source": [
    "# Descriptive statistics\n",
    "print(\"Summary Statistics:\")\n",
    "print(df.describe())"
   ]
  },
  {
   "cell_type": "code",
   "execution_count": 5,
   "id": "9d527023",
   "metadata": {},
   "outputs": [
    {
     "name": "stdout",
     "output_type": "stream",
     "text": [
      "\n",
      "Top 10 Videos by Views:\n",
      "                                                title               channel  \\\n",
      "1                 Reminders of Him | Official Trailer    Universal Pictures   \n",
      "27  BOYFRIEND(MUSIC VIDEO) KARAN AUJLA| SUNANDA | ...           Karan Aujla   \n",
      "5                   never should've played this again          CoryxKenshin   \n",
      "2           Taco Tuesday Admin Abuse + New BRAINROTS!            CaylusBlox   \n",
      "23                       steal a brainrot admin abuse            KreekCraft   \n",
      "29                                 No, I Am Not Human            Markiplier   \n",
      "24  Ayra Starr, Rema - Who’s Dat Girl (Official Mu...         AyraStarrVEVO   \n",
      "8                    Steal A Brainrot WANTS ME DEAD..                Foltyn   \n",
      "15  Madison Beer - bittersweet (Official Music Video)  MadisonBeerMusicVEVO   \n",
      "37                      People are freaking out now..       Asmongold Clips   \n",
      "\n",
      "      views  \n",
      "1   5230773  \n",
      "27  4461926  \n",
      "5   3733843  \n",
      "2   2008316  \n",
      "23  1782526  \n",
      "29  1474018  \n",
      "24  1004271  \n",
      "8    924965  \n",
      "15   888340  \n",
      "37   883075  \n"
     ]
    }
   ],
   "source": [
    "# Top 10 videos by views\n",
    "top_views = df.sort_values('views', ascending=False).head(10)\n",
    "print(\"\\nTop 10 Videos by Views:\")\n",
    "print(top_views[['title', 'channel', 'views']])"
   ]
  },
  {
   "cell_type": "code",
   "execution_count": 6,
   "id": "5edac612",
   "metadata": {},
   "outputs": [
    {
     "name": "stdout",
     "output_type": "stream",
     "text": [
      "\n",
      "Top 10 Videos by Engagement Ratio:\n",
      "                                                title               channel  \\\n",
      "30              Jezzy, Arcangel - Que Sensación Remix         Jezzy El Chef   \n",
      "40                      Upchurch - Throw Away (Audio)         Ryan Upchurch   \n",
      "34                   “Gabriela” with Laufey | KATSEYE               KATSEYE   \n",
      "42    Liltwin - Letter to Jack [Official Music Video]               Liltwin   \n",
      "18          LE SSERAFIM (르세라핌) 'SPAGHETTI' MV TEASER🍅           HYBE LABELS   \n",
      "9   Blo Ft Lil Baby - Kiss & Tell  (prod. By 2havinn)                   Blo   \n",
      "10  Character Trailer - \"Nefer: Shadowbearing Serp...        Genshin Impact   \n",
      "21       T-Pain - Club Husband (Official Music Video)                T Pain   \n",
      "32   Puscifer - \"Self Evident\" (Official Music Video)        pusciferdotcom   \n",
      "15  Madison Beer - bittersweet (Official Music Video)  MadisonBeerMusicVEVO   \n",
      "\n",
      "    engagement_ratio  \n",
      "30          0.238994  \n",
      "40          0.171415  \n",
      "34          0.154961  \n",
      "42          0.126824  \n",
      "18          0.126295  \n",
      "9           0.113495  \n",
      "10          0.112047  \n",
      "21          0.108246  \n",
      "32          0.106114  \n",
      "15          0.096719  \n"
     ]
    }
   ],
   "source": [
    "# Top 10 videos by engagement ratio\n",
    "top_engagement = df.sort_values('engagement_ratio', ascending=False).head(10)\n",
    "print(\"\\nTop 10 Videos by Engagement Ratio:\")\n",
    "print(top_engagement[['title', 'channel', 'engagement_ratio']])"
   ]
  },
  {
   "cell_type": "code",
   "execution_count": 7,
   "id": "94ebbd50",
   "metadata": {},
   "outputs": [
    {
     "name": "stdout",
     "output_type": "stream",
     "text": [
      "\n",
      "Correlation Matrix:\n",
      "                     views     likes  comments  title_length  engagement_ratio\n",
      "views             1.000000  0.639756  0.563285      0.035233         -0.178753\n",
      "likes             0.639756  1.000000  0.947053      0.073061          0.208136\n",
      "comments          0.563285  0.947053  1.000000      0.066119          0.215105\n",
      "title_length      0.035233  0.073061  0.066119      1.000000         -0.018781\n",
      "engagement_ratio -0.178753  0.208136  0.215105     -0.018781          1.000000\n"
     ]
    }
   ],
   "source": [
    "# Correlation analysis\n",
    "print(\"\\nCorrelation Matrix:\")\n",
    "print(df[['views','likes','comments','title_length','engagement_ratio']].corr())"
   ]
  }
 ],
 "metadata": {
  "kernelspec": {
   "display_name": "base",
   "language": "python",
   "name": "python3"
  },
  "language_info": {
   "codemirror_mode": {
    "name": "ipython",
    "version": 3
   },
   "file_extension": ".py",
   "mimetype": "text/x-python",
   "name": "python",
   "nbconvert_exporter": "python",
   "pygments_lexer": "ipython3",
   "version": "3.13.5"
  }
 },
 "nbformat": 4,
 "nbformat_minor": 5
}
